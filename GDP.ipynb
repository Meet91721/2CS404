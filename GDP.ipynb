{
 "cells": [
  {
   "cell_type": "code",
   "execution_count": 39,
   "id": "deab8fda",
   "metadata": {},
   "outputs": [],
   "source": [
    "# Import required libraries\n",
    "\n",
    "# Reading Dataset\n",
    "import pandas as pd\n",
    "\n",
    "# Graphing\n",
    "from matplotlib import pyplot as plt\n",
    "import seaborn as sns\n",
    "\n",
    "# Calculations\n",
    "import numpy as np\n",
    "from math import sqrt\n",
    "from random import sample\n",
    "\n",
    "# Curve Fitting\n",
    "from scipy.optimize import curve_fit"
   ]
  },
  {
   "cell_type": "code",
   "execution_count": 40,
   "id": "2154be2d",
   "metadata": {},
   "outputs": [],
   "source": [
    "dataset = pd.read_csv(\"GDP_dataset.csv\")"
   ]
  },
  {
   "cell_type": "code",
   "execution_count": 41,
   "id": "a7c7600a",
   "metadata": {},
   "outputs": [],
   "source": [
    "# Preferences\n",
    "\n",
    "# Independent Variables\n",
    "ind_names = dataset.keys()[2:]\n",
    "\n",
    "# Dependent Variable\n",
    "dep_name = dataset.keys()[1]\n",
    "\n",
    "# Timeline\n",
    "T = [int(y) for y in dataset[\"Year\"]]\n",
    "\n",
    "# Initial Regression coefficients\n",
    "coeff = np.zeros(len(ind_names))\n",
    "\n",
    "# Regression Curve\n",
    "def regression(X, C = coeff):\n",
    "    \"\"\"\n",
    "    Regression curve\n",
    "    \"\"\"\n",
    "    return np.array(C) * np.array(X)"
   ]
  },
  {
   "cell_type": "code",
   "execution_count": 44,
   "id": "e7d5c35d",
   "metadata": {
    "scrolled": false
   },
   "outputs": [],
   "source": [
    "# v = dataset.corr()[\"GDP\"][2:]\n",
    "Mean = [sum(dataset[i]) / len(dataset[i]) for i in ind_names]"
   ]
  },
  {
   "cell_type": "code",
   "execution_count": 45,
   "id": "cd3042a1",
   "metadata": {},
   "outputs": [
    {
     "name": "stdout",
     "output_type": "stream",
     "text": [
      "Index(['Imports of goods and services', 'Trade (% of GDP)',\n",
      "       'Net foreign assets', 'Final consumption expenditure',\n",
      "       'Net primary income (Net income from abroad)', 'Inflation',\n",
      "       'Tax revenue', 'Foreign direct investment, net inflows (% of GDP)',\n",
      "       'Exports of goods and services', 'CO2 emissions (kt)',\n",
      "       'Taxes on international trade'],\n",
      "      dtype='object') GDP [1974, 1975, 1976, 1977, 1978, 1979, 1980, 1981, 1982, 1983, 1984, 1985, 1986, 1987, 1988, 1989, 1990, 1991, 1992, 1993, 1994, 1995, 1996, 1997, 1998, 1999, 2000, 2001, 2002, 2003, 2004, 2005, 2006, 2007, 2008, 2009, 2010, 2011, 2012, 2013, 2014, 2015, 2016, 2017, 2018, 2019, 2020] [0. 0. 0. 0. 0. 0. 0. 0. 0. 0. 0.] [9966557753372.34, 27.908120077872336, 6030537947631.872, 30975604883636.598, -467875702980.8511, 7.119558510829788, 4694262685106.383, 0.8371474817160849, 8660484695706.383, 1021026.7577021277, 613693191489.3617]\n"
     ]
    }
   ],
   "source": []
  }
 ],
 "metadata": {
  "kernelspec": {
   "display_name": "Python 3 (ipykernel)",
   "language": "python",
   "name": "python3"
  },
  "language_info": {
   "codemirror_mode": {
    "name": "ipython",
    "version": 3
   },
   "file_extension": ".py",
   "mimetype": "text/x-python",
   "name": "python",
   "nbconvert_exporter": "python",
   "pygments_lexer": "ipython3",
   "version": "3.9.7"
  }
 },
 "nbformat": 4,
 "nbformat_minor": 5
}
