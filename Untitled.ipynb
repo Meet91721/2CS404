{
 "cells": [
  {
   "cell_type": "code",
   "execution_count": 1,
   "id": "bfa10a2a",
   "metadata": {},
   "outputs": [
    {
     "ename": "ModuleNotFoundError",
     "evalue": "No module named 'mplfinance'",
     "output_type": "error",
     "traceback": [
      "\u001b[1;31m---------------------------------------------------------------------------\u001b[0m",
      "\u001b[1;31mModuleNotFoundError\u001b[0m                       Traceback (most recent call last)",
      "\u001b[1;32m~\\AppData\\Local\\Temp/ipykernel_15076/2106125025.py\u001b[0m in \u001b[0;36m<module>\u001b[1;34m\u001b[0m\n\u001b[0;32m      5\u001b[0m \u001b[1;32mimport\u001b[0m \u001b[0mmatplotlib\u001b[0m\u001b[1;33m.\u001b[0m\u001b[0mdates\u001b[0m \u001b[1;32mas\u001b[0m  \u001b[0mmpl_dates\u001b[0m\u001b[1;33m\u001b[0m\u001b[1;33m\u001b[0m\u001b[0m\n\u001b[0;32m      6\u001b[0m \u001b[1;32mimport\u001b[0m \u001b[0mdatetime\u001b[0m \u001b[1;32mas\u001b[0m \u001b[0mdt\u001b[0m\u001b[1;33m\u001b[0m\u001b[1;33m\u001b[0m\u001b[0m\n\u001b[1;32m----> 7\u001b[1;33m \u001b[1;32mimport\u001b[0m \u001b[0mmplfinance\u001b[0m\u001b[1;33m\u001b[0m\u001b[1;33m\u001b[0m\u001b[0m\n\u001b[0m\u001b[0;32m      8\u001b[0m \u001b[1;32mfrom\u001b[0m \u001b[0mmatplotlib\u001b[0m\u001b[1;33m.\u001b[0m\u001b[0mbackends\u001b[0m\u001b[1;33m.\u001b[0m\u001b[0mbackend_tkagg\u001b[0m \u001b[1;32mimport\u001b[0m \u001b[0mFigureCanvasTkAgg\u001b[0m\u001b[1;33m\u001b[0m\u001b[1;33m\u001b[0m\u001b[0m\n\u001b[0;32m      9\u001b[0m \u001b[1;32mfrom\u001b[0m \u001b[0mmatplotlib\u001b[0m\u001b[1;33m.\u001b[0m\u001b[0mfigure\u001b[0m \u001b[1;32mimport\u001b[0m \u001b[0mFigure\u001b[0m\u001b[1;33m\u001b[0m\u001b[1;33m\u001b[0m\u001b[0m\n",
      "\u001b[1;31mModuleNotFoundError\u001b[0m: No module named 'mplfinance'"
     ]
    }
   ],
   "source": [
    "from PIL import ImageTk, Image\n",
    "import matplotlib.pyplot as plt\n",
    "import pandas as pd\n",
    "import matplotlib.dates as  mpl_dates\n",
    "import datetime as dt\n",
    "import mplfinance\n",
    "from matplotlib.figure import Figure"
   ]
  },
  {
   "cell_type": "code",
   "execution_count": null,
   "id": "0cefc66a",
   "metadata": {
    "scrolled": true
   },
   "outputs": [],
   "source": []
  },
  {
   "cell_type": "code",
   "execution_count": 10,
   "id": "27807275",
   "metadata": {},
   "outputs": [],
   "source": [
    "def graph():\n",
    "    import pandas_datareader as web\n",
    "    crypto_currency = 'BTC'\n",
    "    against_currency  = 'USD'\n",
    "    start = dt.datetime(2022,1,1)\n",
    "    end = dt.datetime.now()\n",
    "    data = web.DataReader(f'{crypto_currency}-{against_currency}','yahoo',start,end)\n",
    "#     fig, axlist = mplfinance.plot(data,type='candle', volume = True, mav=40, style = 'yahoo', returnfig=True)\n",
    "#     FigureCanvasTkAgg(fig)\n",
    "    fig, ax = mplfinance.plot(data, type='candle',volume=True, style='yahoo', tight_layout=True, returnfig=True,  figratio=(12,6))\n",
    "    canvas = FigureCanvasTkAgg(fig)\n",
    "    canvas.draw()\n",
    "    canvas.get_tk_widget().pack()"
   ]
  },
  {
   "cell_type": "code",
   "execution_count": 11,
   "id": "5f6fea05",
   "metadata": {},
   "outputs": [],
   "source": [
    "root = Tk()\n",
    "root.geometry(\"1200x800\")\n",
    "\n",
    "\n",
    "my_button = Button(root, text=\"BTC\", command=graph)\n",
    "my_button.pack()"
   ]
  },
  {
   "cell_type": "code",
   "execution_count": null,
   "id": "7ef8a60c",
   "metadata": {},
   "outputs": [],
   "source": [
    "root.mainloop()"
   ]
  },
  {
   "cell_type": "code",
   "execution_count": null,
   "id": "4d90df42",
   "metadata": {},
   "outputs": [],
   "source": []
  }
 ],
 "metadata": {
  "kernelspec": {
   "display_name": "Python 3 (ipykernel)",
   "language": "python",
   "name": "python3"
  },
  "language_info": {
   "codemirror_mode": {
    "name": "ipython",
    "version": 3
   },
   "file_extension": ".py",
   "mimetype": "text/x-python",
   "name": "python",
   "nbconvert_exporter": "python",
   "pygments_lexer": "ipython3",
   "version": "3.9.7"
  }
 },
 "nbformat": 4,
 "nbformat_minor": 5
}
